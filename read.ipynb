{
 "cells": [
  {
   "cell_type": "code",
   "execution_count": 7,
   "id": "aebd474a",
   "metadata": {},
   "outputs": [
    {
     "data": {
      "application/vnd.jupyter.widget-view+json": {
       "model_id": "23235e95aed44899b55a929475955696",
       "version_major": 2,
       "version_minor": 0
      },
      "text/plain": [
       "Dropdown(description='Select file:', layout=Layout(width='50%'), options=('FORGE_78-32_iDASv3-P11_UTC190424172…"
      ]
     },
     "metadata": {},
     "output_type": "display_data"
    },
    {
     "data": {
      "application/vnd.jupyter.widget-view+json": {
       "model_id": "28c5d83f9ce3426ab7bf1d0cbdc9d34c",
       "version_major": 2,
       "version_minor": 0
      },
      "text/plain": [
       "Output()"
      ]
     },
     "metadata": {},
     "output_type": "display_data"
    }
   ],
   "source": [
    "import os\n",
    "import numpy as np\n",
    "import matplotlib.pyplot as plt\n",
    "from obspy.io.segy.segy import _read_segy\n",
    "import ipywidgets as widgets\n",
    "from IPython.display import display, clear_output\n",
    "\n",
    "\n",
    "\n",
    "# Folder with SEG-Y files\n",
    "data_folder = \"data\"\n",
    "sgy_files = sorted([f for f in os.listdir(data_folder) if f.endswith(\".sgy\")])\n",
    "\n",
    "# Dropdown widget\n",
    "dropdown = widgets.Dropdown(\n",
    "    options=sgy_files,\n",
    "    description='Select file:',\n",
    "    layout=widgets.Layout(width='50%')\n",
    ")\n",
    "\n",
    "# Output widget for plot\n",
    "out = widgets.Output()\n",
    "\n",
    "# Callback function\n",
    "def on_file_selected(change):\n",
    "    out.clear_output(wait=True)\n",
    "    file = change['new']\n",
    "    file_path = os.path.join(data_folder, file)\n",
    "\n",
    "    with out:\n",
    "        print(f\"\\nReading: {file_path}\")\n",
    "        try:\n",
    "            st = _read_segy(file_path, headonly=False)\n",
    "            print(f\"  Traces: {len(st.traces)} | Samples per trace: {len(st.traces[0].data)}\")\n",
    "            data = np.array([tr.data for tr in st.traces])\n",
    "\n",
    "            # Plot\n",
    "            plt.figure(figsize=(10, 6))\n",
    "            plt.imshow(data.T, cmap=\"seismic\", aspect=\"auto\")\n",
    "            plt.title(f\"DAS Data: {file}\")\n",
    "            plt.xlabel(\"Trace Number\")\n",
    "            plt.ylabel(\"Time Samples\")\n",
    "            plt.colorbar(label=\"Amplitude\")\n",
    "            plt.tight_layout()\n",
    "            plt.show()\n",
    "        except Exception as e:\n",
    "            print(f\"Error reading {file}: {e}\")\n",
    "\n",
    "# Trigger plot when file is selected\n",
    "dropdown.observe(on_file_selected, names='value')\n",
    "\n",
    "# Display\n",
    "display(dropdown, out)\n",
    "\n",
    "# Force first plot to render\n",
    "on_file_selected({'new': dropdown.value})\n"
   ]
  },
  {
   "cell_type": "code",
   "execution_count": null,
   "id": "60dfeaa2",
   "metadata": {},
   "outputs": [
    {
     "name": "stdout",
     "output_type": "stream",
     "text": [
      "Found 19 SEG-Y files.\n"
     ]
    },
    {
     "data": {
      "application/vnd.jupyter.widget-view+json": {
       "model_id": "aab1dccfe8be415d9f8eea97813d0935",
       "version_major": 2,
       "version_minor": 0
      },
      "text/plain": [
       "Dropdown(description='Select file:', layout=Layout(width='50%'), options=('FORGE_78-32_iDASv3-P11_UTC190424172…"
      ]
     },
     "metadata": {},
     "output_type": "display_data"
    },
    {
     "data": {
      "application/vnd.jupyter.widget-view+json": {
       "model_id": "ebe5572546cf450a8cbbc7d0fdda54c1",
       "version_major": 2,
       "version_minor": 0
      },
      "text/plain": [
       "IntRangeSlider(value=(0, 200), continuous_update=False, description='Time range:', layout=Layout(width='80%'),…"
      ]
     },
     "metadata": {},
     "output_type": "display_data"
    },
    {
     "data": {
      "application/vnd.jupyter.widget-view+json": {
       "model_id": "fe1d889ce54847b69140ea68ba161781",
       "version_major": 2,
       "version_minor": 0
      },
      "text/plain": [
       "Output()"
      ]
     },
     "metadata": {},
     "output_type": "display_data"
    }
   ],
   "source": [
    "import os\n",
    "import numpy as np\n",
    "import matplotlib.pyplot as plt\n",
    "from obspy.io.segy.segy import _read_segy\n",
    "import ipywidgets as widgets\n",
    "from IPython.display import display, clear_output\n",
    "\n",
    "%matplotlib inline\n",
    "\n",
    "# === Load SEG-Y file list ===\n",
    "data_folder = \"data\"\n",
    "sgy_files = sorted([f for f in os.listdir(data_folder) if f.endswith(\".sgy\")])\n",
    "\n",
    "print(f\"Found {len(sgy_files)} SEG-Y files.\")\n",
    "\n",
    "# === Global storage to cache current data ===\n",
    "current_data = {}\n",
    "\n",
    "# === Widgets ===\n",
    "dropdown = widgets.Dropdown(\n",
    "    options=sgy_files,\n",
    "    description='Select file:',\n",
    "    layout=widgets.Layout(width='50%')\n",
    ")\n",
    "\n",
    "slider = widgets.IntRangeSlider(\n",
    "    value=[0, 200],\n",
    "    min=0,\n",
    "    max=200,  # Temporary default, will update after file is loaded\n",
    "    step=1,\n",
    "    description='Time range:',\n",
    "    continuous_update=False,\n",
    "    layout=widgets.Layout(width='80%')\n",
    ")\n",
    "\n",
    "out = widgets.Output()\n",
    "\n",
    "# === Update Plot ===\n",
    "def update_plot(file, tmin, tmax):\n",
    "    out.clear_output(wait=True)\n",
    "\n",
    "    with out:\n",
    "        try:\n",
    "            # Read or reuse\n",
    "            if file not in current_data:\n",
    "                st = _read_segy(os.path.join(data_folder, file), headonly=False)\n",
    "                data = np.array([tr.data for tr in st.traces])\n",
    "                current_data[file] = data\n",
    "            else:\n",
    "                data = current_data[file]\n",
    "\n",
    "            tmax = min(tmax, data.shape[1])\n",
    "\n",
    "            # Plot\n",
    "            plt.figure(figsize=(10, 6))\n",
    "            plt.imshow(data[:, tmin:tmax].T, cmap=\"seismic\", aspect=\"auto\", origin='upper')\n",
    "            plt.title(f\"{file}  |  Time samples: {tmin} to {tmax}\")\n",
    "            plt.xlabel(\"Trace Number\")\n",
    "            plt.ylabel(\"Time Samples\")\n",
    "            plt.colorbar(label=\"Amplitude\")\n",
    "            plt.tight_layout()\n",
    "            plt.show()\n",
    "\n",
    "        except Exception as e:\n",
    "            print(f\"Error: {e}\")\n",
    "\n",
    "# === Callback for file selection ===\n",
    "def on_file_selected(change):\n",
    "    file = change['new']\n",
    "    try:\n",
    "        st = _read_segy(os.path.join(data_folder, file), headonly=True)\n",
    "        sample_len = len(st.traces[0].data)\n",
    "        slider.max = sample_len\n",
    "        slider.value = [0, sample_len]\n",
    "    except Exception as e:\n",
    "        print(f\"Could not load file: {e}\")\n",
    "    update_plot(file, *slider.value)\n",
    "\n",
    "# === Callback for time slider ===\n",
    "def on_slider_change(change):\n",
    "    update_plot(dropdown.value, *change['new'])\n",
    "\n",
    "# === Register Callbacks ===\n",
    "dropdown.observe(on_file_selected, names='value')\n",
    "slider.observe(on_slider_change, names='value')\n",
    "\n",
    "# === Display ===\n",
    "display(dropdown, slider, out)\n",
    "\n",
    "# === Initial trigger ===\n",
    "on_file_selected({'new': dropdown.value})\n"
   ]
  }
 ],
 "metadata": {
  "kernelspec": {
   "display_name": "venv",
   "language": "python",
   "name": "python3"
  },
  "language_info": {
   "codemirror_mode": {
    "name": "ipython",
    "version": 3
   },
   "file_extension": ".py",
   "mimetype": "text/x-python",
   "name": "python",
   "nbconvert_exporter": "python",
   "pygments_lexer": "ipython3",
   "version": "3.11.6"
  }
 },
 "nbformat": 4,
 "nbformat_minor": 5
}
